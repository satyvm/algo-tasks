{
 "cells": [
  {
   "cell_type": "code",
   "id": "initial_id",
   "metadata": {
    "collapsed": true,
    "ExecuteTime": {
     "end_time": "2024-09-15T20:28:15.491275Z",
     "start_time": "2024-09-15T20:28:15.483135Z"
    }
   },
   "source": [
    "from pyexpat.errors import messages\n",
    "\n",
    "from dotenv import load_dotenv\n",
    "import os\n",
    "\n",
    "load_dotenv(override=True)\n",
    "API_KEY = os.getenv('APCA-API-KEY-ID')\n",
    "SECRET_KEY = os.getenv('APCA-API-SECRET-KEY')"
   ],
   "outputs": [],
   "execution_count": 22
  },
  {
   "metadata": {
    "ExecuteTime": {
     "end_time": "2024-09-15T20:28:16.132532Z",
     "start_time": "2024-09-15T20:28:16.128217Z"
    }
   },
   "cell_type": "code",
   "source": [
    "import asyncio, websockets, json, nest_asyncio\n",
    "nest_asyncio.apply()"
   ],
   "id": "d08c302a84813de7",
   "outputs": [],
   "execution_count": 23
  },
  {
   "metadata": {
    "ExecuteTime": {
     "end_time": "2024-09-15T20:28:16.629893Z",
     "start_time": "2024-09-15T20:28:16.627676Z"
    }
   },
   "cell_type": "code",
   "source": [
    "url = \"wss://stream.data.alpaca.markets/v1beta3/crypto/us\"\n",
    "# url = \"wss://stream.data.sandbox.alpaca.markets/v1beta3/crypto/us\"\n",
    "# url = \"wss://stream.data.alpaca.markets/v2/test\""
   ],
   "id": "29f9c520bf9b9d71",
   "outputs": [],
   "execution_count": 24
  },
  {
   "metadata": {
    "ExecuteTime": {
     "end_time": "2024-09-15T20:28:18.556375Z",
     "start_time": "2024-09-15T20:28:17.252551Z"
    }
   },
   "cell_type": "code",
   "source": [
    "async def connect_to_websocket():\n",
    "    async with websockets.connect(url) as connected_websocket:\n",
    "        msg = await connected_websocket.recv()\n",
    "        print(msg)     \n",
    "asyncio.get_event_loop().run_until_complete(connect_to_websocket())"
   ],
   "id": "cad660abaf9533fa",
   "outputs": [
    {
     "name": "stdout",
     "output_type": "stream",
     "text": [
      "[{\"T\":\"success\",\"msg\":\"connected\"}]\n"
     ]
    }
   ],
   "execution_count": 25
  },
  {
   "metadata": {
    "ExecuteTime": {
     "end_time": "2024-09-15T20:28:19.142907Z",
     "start_time": "2024-09-15T20:28:19.139315Z"
    }
   },
   "cell_type": "code",
   "source": [
    "auth_data = {\n",
    "        \"action\": \"auth\",\n",
    "        \"key\": API_KEY, \n",
    "        \"secret\": SECRET_KEY\n",
    "}"
   ],
   "id": "e661fcda119bcec7",
   "outputs": [],
   "execution_count": 26
  },
  {
   "metadata": {
    "ExecuteTime": {
     "end_time": "2024-09-15T20:38:51.911539Z",
     "start_time": "2024-09-15T20:38:50.424551Z"
    }
   },
   "cell_type": "code",
   "source": [
    "async def authenticate_websocket():\n",
    "    async with (websockets.connect(url) as ws):\n",
    "        await ws.send(json.dumps(auth_data))\n",
    "        async for msg in ws:\n",
    "            message_data = json.loads(msg)\n",
    "            if message_data[0][\"msg\"] == \"connected\":\n",
    "                print(message_data)\n",
    "            elif message_data[0][\"msg\"] == \"authenticated\":\n",
    "                print(message_data)\n",
    "                break\n",
    "            else:\n",
    "                print(\"error\", message_data)\n",
    "                break\n",
    "        return ws\n",
    "ws = asyncio.get_event_loop().run_until_complete(authenticate_websocket())"
   ],
   "id": "919cf8f7bdf34e7c",
   "outputs": [
    {
     "name": "stdout",
     "output_type": "stream",
     "text": [
      "[{'T': 'success', 'msg': 'connected'}]\n",
      "[{'T': 'success', 'msg': 'authenticated'}]\n"
     ]
    }
   ],
   "execution_count": 30
  },
  {
   "metadata": {
    "ExecuteTime": {
     "end_time": "2024-09-13T06:34:23.037138Z",
     "start_time": "2024-09-13T06:34:23.032543Z"
    }
   },
   "cell_type": "code",
   "source": [
    "# trading - wss://paper-api.alpaca.markets/stream\n",
    "# market - wss://stream.data.alpaca.markets/v1beta3/crypto/us"
   ],
   "id": "913b609a453b0254",
   "outputs": [],
   "execution_count": 5
  },
  {
   "metadata": {
    "ExecuteTime": {
     "end_time": "2024-09-15T20:39:03.105529Z",
     "start_time": "2024-09-15T20:39:03.070422Z"
    }
   },
   "cell_type": "code",
   "source": [
    "async def subscribe_to_ticker(symbol):\n",
    "    async with ws:\n",
    "        sub_message = {\n",
    "            \"action\": \"subscribe\",\n",
    "            \"bars\": [symbol],\n",
    "        }\n",
    "        await ws.send(json.dumps(sub_message))\n",
    "        async for msg in ws:\n",
    "            message_data = json.loads(msg)\n",
    "            print(message_data)\n",
    "asyncio.get_event_loop().run_until_complete(subscribe_to_ticker(\"BTC/USD\"))"
   ],
   "id": "76929c0447ed679d",
   "outputs": [
    {
     "ename": "TypeError",
     "evalue": "'WebSocketClientProtocol' object does not support the asynchronous context manager protocol",
     "output_type": "error",
     "traceback": [
      "\u001B[0;31m---------------------------------------------------------------------------\u001B[0m",
      "\u001B[0;31mTypeError\u001B[0m                                 Traceback (most recent call last)",
      "Cell \u001B[0;32mIn[31], line 11\u001B[0m\n\u001B[1;32m      9\u001B[0m             message_data \u001B[38;5;241m=\u001B[39m json\u001B[38;5;241m.\u001B[39mloads(msg)\n\u001B[1;32m     10\u001B[0m             \u001B[38;5;28mprint\u001B[39m(message_data)\n\u001B[0;32m---> 11\u001B[0m \u001B[43masyncio\u001B[49m\u001B[38;5;241;43m.\u001B[39;49m\u001B[43mget_event_loop\u001B[49m\u001B[43m(\u001B[49m\u001B[43m)\u001B[49m\u001B[38;5;241;43m.\u001B[39;49m\u001B[43mrun_until_complete\u001B[49m\u001B[43m(\u001B[49m\u001B[43msubscribe_to_ticker\u001B[49m\u001B[43m(\u001B[49m\u001B[38;5;124;43m\"\u001B[39;49m\u001B[38;5;124;43mBTC/USD\u001B[39;49m\u001B[38;5;124;43m\"\u001B[39;49m\u001B[43m)\u001B[49m\u001B[43m)\u001B[49m\n",
      "File \u001B[0;32m~/Developer/Learn/algotrade/algo-tasks/.venv/lib/python3.12/site-packages/nest_asyncio.py:98\u001B[0m, in \u001B[0;36m_patch_loop.<locals>.run_until_complete\u001B[0;34m(self, future)\u001B[0m\n\u001B[1;32m     95\u001B[0m \u001B[38;5;28;01mif\u001B[39;00m \u001B[38;5;129;01mnot\u001B[39;00m f\u001B[38;5;241m.\u001B[39mdone():\n\u001B[1;32m     96\u001B[0m     \u001B[38;5;28;01mraise\u001B[39;00m \u001B[38;5;167;01mRuntimeError\u001B[39;00m(\n\u001B[1;32m     97\u001B[0m         \u001B[38;5;124m'\u001B[39m\u001B[38;5;124mEvent loop stopped before Future completed.\u001B[39m\u001B[38;5;124m'\u001B[39m)\n\u001B[0;32m---> 98\u001B[0m \u001B[38;5;28;01mreturn\u001B[39;00m \u001B[43mf\u001B[49m\u001B[38;5;241;43m.\u001B[39;49m\u001B[43mresult\u001B[49m\u001B[43m(\u001B[49m\u001B[43m)\u001B[49m\n",
      "File \u001B[0;32m~/.pyenv/versions/3.12.5/lib/python3.12/asyncio/futures.py:203\u001B[0m, in \u001B[0;36mFuture.result\u001B[0;34m(self)\u001B[0m\n\u001B[1;32m    201\u001B[0m \u001B[38;5;28mself\u001B[39m\u001B[38;5;241m.\u001B[39m__log_traceback \u001B[38;5;241m=\u001B[39m \u001B[38;5;28;01mFalse\u001B[39;00m\n\u001B[1;32m    202\u001B[0m \u001B[38;5;28;01mif\u001B[39;00m \u001B[38;5;28mself\u001B[39m\u001B[38;5;241m.\u001B[39m_exception \u001B[38;5;129;01mis\u001B[39;00m \u001B[38;5;129;01mnot\u001B[39;00m \u001B[38;5;28;01mNone\u001B[39;00m:\n\u001B[0;32m--> 203\u001B[0m     \u001B[38;5;28;01mraise\u001B[39;00m \u001B[38;5;28mself\u001B[39m\u001B[38;5;241m.\u001B[39m_exception\u001B[38;5;241m.\u001B[39mwith_traceback(\u001B[38;5;28mself\u001B[39m\u001B[38;5;241m.\u001B[39m_exception_tb)\n\u001B[1;32m    204\u001B[0m \u001B[38;5;28;01mreturn\u001B[39;00m \u001B[38;5;28mself\u001B[39m\u001B[38;5;241m.\u001B[39m_result\n",
      "File \u001B[0;32m~/.pyenv/versions/3.12.5/lib/python3.12/asyncio/tasks.py:314\u001B[0m, in \u001B[0;36mTask.__step_run_and_handle_result\u001B[0;34m(***failed resolving arguments***)\u001B[0m\n\u001B[1;32m    310\u001B[0m \u001B[38;5;28;01mtry\u001B[39;00m:\n\u001B[1;32m    311\u001B[0m     \u001B[38;5;28;01mif\u001B[39;00m exc \u001B[38;5;129;01mis\u001B[39;00m \u001B[38;5;28;01mNone\u001B[39;00m:\n\u001B[1;32m    312\u001B[0m         \u001B[38;5;66;03m# We use the `send` method directly, because coroutines\u001B[39;00m\n\u001B[1;32m    313\u001B[0m         \u001B[38;5;66;03m# don't have `__iter__` and `__next__` methods.\u001B[39;00m\n\u001B[0;32m--> 314\u001B[0m         result \u001B[38;5;241m=\u001B[39m \u001B[43mcoro\u001B[49m\u001B[38;5;241;43m.\u001B[39;49m\u001B[43msend\u001B[49m\u001B[43m(\u001B[49m\u001B[38;5;28;43;01mNone\u001B[39;49;00m\u001B[43m)\u001B[49m\n\u001B[1;32m    315\u001B[0m     \u001B[38;5;28;01melse\u001B[39;00m:\n\u001B[1;32m    316\u001B[0m         result \u001B[38;5;241m=\u001B[39m coro\u001B[38;5;241m.\u001B[39mthrow(exc)\n",
      "Cell \u001B[0;32mIn[31], line 2\u001B[0m, in \u001B[0;36msubscribe_to_ticker\u001B[0;34m(symbol)\u001B[0m\n\u001B[1;32m      1\u001B[0m \u001B[38;5;28;01masync\u001B[39;00m \u001B[38;5;28;01mdef\u001B[39;00m \u001B[38;5;21msubscribe_to_ticker\u001B[39m(symbol):\n\u001B[0;32m----> 2\u001B[0m     \u001B[38;5;28;01masync\u001B[39;00m \u001B[38;5;28;01mwith\u001B[39;00m ws:\n\u001B[1;32m      3\u001B[0m         sub_message \u001B[38;5;241m=\u001B[39m {\n\u001B[1;32m      4\u001B[0m             \u001B[38;5;124m\"\u001B[39m\u001B[38;5;124maction\u001B[39m\u001B[38;5;124m\"\u001B[39m: \u001B[38;5;124m\"\u001B[39m\u001B[38;5;124msubscribe\u001B[39m\u001B[38;5;124m\"\u001B[39m,\n\u001B[1;32m      5\u001B[0m             \u001B[38;5;124m\"\u001B[39m\u001B[38;5;124mbars\u001B[39m\u001B[38;5;124m\"\u001B[39m: [symbol],\n\u001B[1;32m      6\u001B[0m         }\n\u001B[1;32m      7\u001B[0m         \u001B[38;5;28;01mawait\u001B[39;00m ws\u001B[38;5;241m.\u001B[39msend(json\u001B[38;5;241m.\u001B[39mdumps(sub_message))\n",
      "\u001B[0;31mTypeError\u001B[0m: 'WebSocketClientProtocol' object does not support the asynchronous context manager protocol"
     ]
    }
   ],
   "execution_count": 31
  },
  {
   "metadata": {
    "ExecuteTime": {
     "end_time": "2024-09-13T05:59:17.973397Z",
     "start_time": "2024-09-13T05:59:17.960875Z"
    }
   },
   "cell_type": "code",
   "outputs": [
    {
     "ename": "NameError",
     "evalue": "name 'socket' is not defined",
     "output_type": "error",
     "traceback": [
      "\u001B[0;31m---------------------------------------------------------------------------\u001B[0m",
      "\u001B[0;31mNameError\u001B[0m                                 Traceback (most recent call last)",
      "Cell \u001B[0;32mIn[9], line 24\u001B[0m\n\u001B[1;32m     12\u001B[0m     ws\u001B[38;5;241m.\u001B[39msend(json\u001B[38;5;241m.\u001B[39mdumps(listen_message))\n\u001B[1;32m     13\u001B[0m \u001B[38;5;66;03m# \u001B[39;00m\n\u001B[1;32m     14\u001B[0m \u001B[38;5;66;03m# \u001B[39;00m\n\u001B[1;32m     15\u001B[0m \u001B[38;5;66;03m# def on_message(ws, message):\u001B[39;00m\n\u001B[0;32m   (...)\u001B[0m\n\u001B[1;32m     22\u001B[0m \u001B[38;5;66;03m# socket = \"wss://stream.data.alpaca.markets/v1beta3/crypto/us\"\u001B[39;00m\n\u001B[1;32m     23\u001B[0m \u001B[38;5;66;03m# \u001B[39;00m\n\u001B[0;32m---> 24\u001B[0m ws \u001B[38;5;241m=\u001B[39m websocket\u001B[38;5;241m.\u001B[39mWebSocketApp(\u001B[43msocket\u001B[49m, on_open\u001B[38;5;241m=\u001B[39mon_open, on_message\u001B[38;5;241m=\u001B[39mon_message, on_close\u001B[38;5;241m=\u001B[39mon_close)\n\u001B[1;32m     25\u001B[0m \u001B[38;5;66;03m# ws.run_forever()\u001B[39;00m\n",
      "\u001B[0;31mNameError\u001B[0m: name 'socket' is not defined"
     ]
    }
   ],
   "execution_count": 9,
   "source": [
    "def on_open(ws):\n",
    "    print(\"opened\")\n",
    "    auth_data = {\n",
    "        \"action\": \"authenticate\",\n",
    "        \"key_id\": API_KEY, \n",
    "        \"secret_key\": SECRET_KEY\n",
    "    }\n",
    "\n",
    "    ws.send(json.dumps(auth_data))\n",
    "\n",
    "    listen_message = {\"action\": \"listen\", \"data\": {\"streams\": [\"AM.TSLA\"]}}\n",
    "\n",
    "    ws.send(json.dumps(listen_message))\n",
    "# \n",
    "# \n",
    "def on_message(ws, message):\n",
    "    print(\"received a message\")\n",
    "    print(message)\n",
    "\n",
    "def on_close(ws):\n",
    "    print(\"closed connection\")\n",
    "# \n",
    "# socket = \"wss://stream.data.alpaca.markets/v1beta3/crypto/us\"\n",
    "# \n",
    "ws = websocket.WebSocketApp(socket, on_open=on_open, on_message=on_message, on_close=on_close)\n",
    "# ws.run_forever()"
   ],
   "id": "a45971ac6d9d9d9a"
  }
 ],
 "metadata": {
  "kernelspec": {
   "display_name": "Python 3",
   "language": "python",
   "name": "python3"
  },
  "language_info": {
   "codemirror_mode": {
    "name": "ipython",
    "version": 2
   },
   "file_extension": ".py",
   "mimetype": "text/x-python",
   "name": "python",
   "nbconvert_exporter": "python",
   "pygments_lexer": "ipython2",
   "version": "2.7.6"
  }
 },
 "nbformat": 4,
 "nbformat_minor": 5
}
