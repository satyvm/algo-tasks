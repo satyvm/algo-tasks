{
 "cells": [
  {
   "cell_type": "code",
   "id": "initial_id",
   "metadata": {
    "collapsed": true,
    "ExecuteTime": {
     "end_time": "2024-09-01T02:06:56.456076Z",
     "start_time": "2024-09-01T02:06:56.448615Z"
    }
   },
   "source": [
    "from token import ASYNC\n",
    "\n",
    "from dotenv import load_dotenv\n",
    "import os\n",
    "\n",
    "load_dotenv(override=True)\n",
    "API_KEY = os.getenv('APCA-API-KEY-ID')\n",
    "SECRET_KEY = os.getenv('APCA-API-SECRET-KEY')"
   ],
   "outputs": [],
   "execution_count": 1
  },
  {
   "metadata": {
    "ExecuteTime": {
     "end_time": "2024-09-03T06:27:37.558892Z",
     "start_time": "2024-09-03T06:27:37.540175Z"
    }
   },
   "cell_type": "code",
   "source": [
    "import asyncio\n",
    "import websocket, websockets, json"
   ],
   "id": "2b824151f074cfb6",
   "outputs": [],
   "execution_count": 3
  },
  {
   "metadata": {
    "ExecuteTime": {
     "end_time": "2024-09-01T02:07:01.899370Z",
     "start_time": "2024-09-01T02:07:01.765690Z"
    }
   },
   "cell_type": "code",
   "source": "!where python",
   "id": "361d9395c70e256a",
   "outputs": [
    {
     "name": "stdout",
     "output_type": "stream",
     "text": [
      "/Users/satyam/Developer/Learn/algotrade/algo-tasks/.venv/bin/python\r\n",
      "/Users/satyam/.pyenv/shims/python\r\n"
     ]
    }
   ],
   "execution_count": 3
  },
  {
   "metadata": {
    "ExecuteTime": {
     "end_time": "2024-09-01T17:12:50.141204Z",
     "start_time": "2024-09-01T17:12:50.112553Z"
    }
   },
   "cell_type": "code",
   "source": [
    "import asyncio, websocket, websockets, json\n",
    "# from websockets.asyncio.client import connect\n",
    "\n",
    "CONNECTIONS = set()"
   ],
   "id": "d08c302a84813de7",
   "outputs": [],
   "execution_count": 8
  },
  {
   "metadata": {
    "ExecuteTime": {
     "end_time": "2024-09-01T17:55:34.303592Z",
     "start_time": "2024-09-01T17:55:34.271075Z"
    }
   },
   "cell_type": "code",
   "source": [
    "async def echo(websocket):\n",
    "  if websocket not in CONNECTIONS:\n",
    "    CONNECTIONS.add(websocket)\n",
    "  async for message in websocket:\n",
    "    websockets.broadcast(CONNECTIONS,message)"
   ],
   "id": "bf23a8544fe29553",
   "outputs": [],
   "execution_count": 11
  },
  {
   "metadata": {
    "ExecuteTime": {
     "end_time": "2024-09-03T01:42:59.178487Z",
     "start_time": "2024-09-03T01:42:59.172629Z"
    }
   },
   "cell_type": "code",
   "source": [
    "# trading - wss://paper-api.alpaca.markets/stream\n",
    "# market - wss://stream.data.alpaca.markets/v1beta3/crypto/us\n",
    "async def connect_to_websocket():\n",
    "    uri = \"wss://stream.data.alpaca.markets/v1beta3/crypto/us\"\n",
    "    async with websockets.connect(uri) as websocket:\n",
    "        await Cli:\n",
    "            \n",
    "        print(f\"Received: {message}\")\n",
    "connect_to_websocket()"
   ],
   "id": "913b609a453b0254",
   "outputs": [
    {
     "data": {
      "text/plain": [
       "<coroutine object connect_to_websocket at 0x1060b8e50>"
      ]
     },
     "execution_count": 1,
     "metadata": {},
     "output_type": "execute_result"
    }
   ],
   "execution_count": 1
  },
  {
   "metadata": {
    "ExecuteTime": {
     "end_time": "2024-09-01T17:55:39.884145Z",
     "start_time": "2024-09-01T17:55:39.856080Z"
    }
   },
   "cell_type": "code",
   "source": "ws = websocket.WebSocket()",
   "id": "fd6ee023ebf46bf",
   "outputs": [],
   "execution_count": 13
  },
  {
   "metadata": {
    "ExecuteTime": {
     "end_time": "2024-09-03T06:28:25.263550Z",
     "start_time": "2024-09-03T06:28:14.547016Z"
    }
   },
   "cell_type": "code",
   "source": [
    "def on_open(ws):\n",
    "    print(\"opened\")\n",
    "    auth_data = {\n",
    "        \"action\": \"authenticate\",\n",
    "        \"data\": {\"key_id\": API_KEY, \"secret_key\": SECRET_KEY}\n",
    "    }\n",
    "\n",
    "    ws.send(json.dumps(auth_data))\n",
    "\n",
    "    listen_message = {\"action\": \"listen\", \"data\": {\"streams\": [\"AM.TSLA\"]}}\n",
    "\n",
    "    ws.send(json.dumps(listen_message))\n",
    "\n",
    "\n",
    "def on_message(ws, message):\n",
    "    print(\"received a message\")\n",
    "    print(message)\n",
    "\n",
    "def on_close(ws):\n",
    "    print(\"closed connection\")\n",
    "\n",
    "socket = \"wss://stream.data.alpaca.markets/v1beta3/crypto/us\"\n",
    "\n",
    "ws = websocket.WebSocketApp(socket, on_open=on_open, on_message=on_message, on_close=on_close)\n",
    "ws.run_forever()"
   ],
   "id": "a45971ac6d9d9d9a",
   "outputs": [
    {
     "name": "stdout",
     "output_type": "stream",
     "text": [
      "opened\n",
      "received a message\n",
      "[{\"T\":\"success\",\"msg\":\"connected\"}]\n"
     ]
    },
    {
     "data": {
      "text/plain": [
       "True"
      ]
     },
     "execution_count": 6,
     "metadata": {},
     "output_type": "execute_result"
    }
   ],
   "execution_count": 6
  },
  {
   "metadata": {},
   "cell_type": "code",
   "outputs": [],
   "execution_count": null,
   "source": "",
   "id": "5f5f881c23cd39d5"
  }
 ],
 "metadata": {
  "kernelspec": {
   "display_name": "Python 3",
   "language": "python",
   "name": "python3"
  },
  "language_info": {
   "codemirror_mode": {
    "name": "ipython",
    "version": 2
   },
   "file_extension": ".py",
   "mimetype": "text/x-python",
   "name": "python",
   "nbconvert_exporter": "python",
   "pygments_lexer": "ipython2",
   "version": "2.7.6"
  }
 },
 "nbformat": 4,
 "nbformat_minor": 5
}
